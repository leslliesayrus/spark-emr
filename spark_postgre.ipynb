{
 "cells": [
  {
   "cell_type": "code",
   "execution_count": null,
   "id": "0c88dd0a",
   "metadata": {},
   "outputs": [],
   "source": [
    "# Spark Session on windows\n",
    "import os\n",
    "os.environ[\"JAVA_HOME\"] = r\"C:\\Program Files\\Java\\jdk1.8.0_333\"\n",
    "os.environ[\"SPARK_HOME\"] = r\"C:\\Program Files\\spark\\spark-3.1.3-bin-hadoop2.7\"\n",
    "\n",
    "import findspark\n",
    "findspark.init(r\"C:\\Program Files\\spark\\spark-3.1.3-bin-hadoop2.7\")\n",
    "\n",
    "# On config, that's the path of postgre driver\n",
    "from pyspark.sql import SparkSession\n",
    "spark = SparkSession.builder.config(\"spark.jars\", r'path_driver_postgre\\postgresql-42.2.26.jar') \\\n",
    ".getOrCreate()"
   ]
  },
  {
   "cell_type": "code",
   "execution_count": 57,
   "id": "9e6c3e95",
   "metadata": {},
   "outputs": [
    {
     "data": {
      "text/html": [
       "\n",
       "            <div>\n",
       "                <p><b>SparkSession - in-memory</b></p>\n",
       "                \n",
       "        <div>\n",
       "            <p><b>SparkContext</b></p>\n",
       "\n",
       "            <p><a href=\"http://DESKTOP-8V209GL.lan:4041\">Spark UI</a></p>\n",
       "\n",
       "            <dl>\n",
       "              <dt>Version</dt>\n",
       "                <dd><code>v3.1.3</code></dd>\n",
       "              <dt>Master</dt>\n",
       "                <dd><code>local[*]</code></dd>\n",
       "              <dt>AppName</dt>\n",
       "                <dd><code>pyspark-shell</code></dd>\n",
       "            </dl>\n",
       "        </div>\n",
       "        \n",
       "            </div>\n",
       "        "
      ],
      "text/plain": [
       "<pyspark.sql.session.SparkSession at 0x223acdeec70>"
      ]
     },
     "execution_count": 57,
     "metadata": {},
     "output_type": "execute_result"
    }
   ],
   "source": [
    "spark"
   ]
  },
  {
   "cell_type": "code",
   "execution_count": null,
   "id": "16c37b99",
   "metadata": {},
   "outputs": [],
   "source": [
    "# connection Pyspark and JBDC\n",
    "table = spark.read.format('jdbc') \\\n",
    ".option('url', 'jbdc:postgresql://localhost:5432/postgre_database') \\\n",
    ".option('dbtable','table_name').option('user', 'postgres') \\\n",
    ".option('password', 'your_password_postgre') \\\n",
    ".option(\"driver\", \"org.postgresql.Driver\") \n",
    "teste.load()"
   ]
  }
 ],
 "metadata": {
  "kernelspec": {
   "display_name": "Python 3 (ipykernel)",
   "language": "python",
   "name": "python3"
  },
  "language_info": {
   "codemirror_mode": {
    "name": "ipython",
    "version": 3
   },
   "file_extension": ".py",
   "mimetype": "text/x-python",
   "name": "python",
   "nbconvert_exporter": "python",
   "pygments_lexer": "ipython3",
   "version": "3.9.12"
  }
 },
 "nbformat": 4,
 "nbformat_minor": 5
}
