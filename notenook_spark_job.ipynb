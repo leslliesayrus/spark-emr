{
  "nbformat": 4,
  "nbformat_minor": 0,
  "metadata": {
    "colab": {
      "provenance": []
    },
    "kernelspec": {
      "name": "python3",
      "display_name": "Python 3"
    },
    "language_info": {
      "name": "python"
    }
  },
  "cells": [
    {
      "cell_type": "code",
      "execution_count": 1,
      "metadata": {
        "id": "mvs2ZFR1ZQWt"
      },
      "outputs": [],
      "source": [
        "from pyspark.sql import SparkSession\n",
        "from pyspark import SparkConf\n",
        "from os.path import abspath\n",
        "\n",
        "spark = SparkSession.builder.getOrCreate()\n",
        "print(SparkConf().getAll())"
      ]
    },
    {
      "cell_type": "code",
      "source": [
        "# only to see some settings of spark\n",
        "print(SparkConf().getAll())"
      ],
      "metadata": {
        "id": "spxIaaCDcg2G",
        "colab": {
          "base_uri": "https://localhost:8080/"
        },
        "outputId": "7ab5037c-5166-4ba6-aa6c-78ce6dabc52e"
      },
      "execution_count": 4,
      "outputs": [
        {
          "output_type": "stream",
          "name": "stdout",
          "text": [
            "[('spark.master', 'local[*]'), ('spark.submit.deployMode', 'client'), ('spark.ui.showConsoleProgress', 'true'), ('spark.app.name', 'pyspark-shell')]\n"
          ]
        }
      ]
    },
    {
      "cell_type": "code",
      "source": [
        "print(spark.sparkContext.setLogLevel(\"INFO\"))"
      ],
      "metadata": {
        "colab": {
          "base_uri": "https://localhost:8080/"
        },
        "id": "ppZ3JDe0pyNx",
        "outputId": "97708d13-2d7b-48a7-ba7c-d1ab479c431b"
      },
      "execution_count": 5,
      "outputs": [
        {
          "output_type": "stream",
          "name": "stdout",
          "text": [
            "None\n"
          ]
        }
      ]
    },
    {
      "cell_type": "code",
      "source": [
        "# path of the files\n",
        "country_path = \"/data/country/*.csv\"\n",
        "population_path = \"/data/population/*.csv\""
      ],
      "metadata": {
        "id": "isB7VoRHpyQO"
      },
      "execution_count": 13,
      "outputs": []
    },
    {
      "cell_type": "code",
      "source": [
        "# open the country table\n",
        "df_country = spark.read \\\n",
        "                          .format('csv') \\\n",
        "                          .option(\"inferSchema\", \"True\") \\\n",
        "                          .option('header', 'True') \\\n",
        "                          .csv(country_path)"
      ],
      "metadata": {
        "id": "af40H56fkbLz"
      },
      "execution_count": 7,
      "outputs": []
    },
    {
      "cell_type": "code",
      "source": [
        "# open the population world table\n",
        "df_population = spark.read \\\n",
        "                          .format('csv') \\\n",
        "                          .option(\"inferSchema\", \"True\") \\\n",
        "                          .option('header', 'True') \\\n",
        "                          .csv(population_path)"
      ],
      "metadata": {
        "id": "iI2oWncCpyVE"
      },
      "execution_count": 14,
      "outputs": []
    },
    {
      "cell_type": "code",
      "source": [
        "# show the country table\n",
        "df_country.show()"
      ],
      "metadata": {
        "colab": {
          "base_uri": "https://localhost:8080/"
        },
        "id": "EA1fva_3pySa",
        "outputId": "a9943593-4311-4971-cb36-96e0d4fc1941"
      },
      "execution_count": 11,
      "outputs": [
        {
          "output_type": "stream",
          "name": "stdout",
          "text": [
            "+----+-------------+-----------------+-------------+\n",
            "|CCA3|      Country|          Capital|    Continent|\n",
            "+----+-------------+-----------------+-------------+\n",
            "| JAM|      Jamaica|         Kingston|North America|\n",
            "| JPN|        Japan|            Tokyo|         Asia|\n",
            "| JEY|       Jersey|     Saint Helier|       Europe|\n",
            "| JOR|       Jordan|            Amman|         Asia|\n",
            "| KAZ|   Kazakhstan|        Nursultan|         Asia|\n",
            "| KEN|        Kenya|          Nairobi|       Africa|\n",
            "| KIR|     Kiribati|           Tarawa|      Oceania|\n",
            "| KWT|       Kuwait|      Kuwait City|         Asia|\n",
            "| KGZ|   Kyrgyzstan|          Bishkek|         Asia|\n",
            "| LAO|         Laos|        Vientiane|         Asia|\n",
            "| LVA|       Latvia|             Riga|       Europe|\n",
            "| LBN|      Lebanon|           Beirut|         Asia|\n",
            "| LSO|      Lesotho|           Maseru|       Africa|\n",
            "| LBR|      Liberia|         Monrovia|       Africa|\n",
            "| LBY|        Libya|          Tripoli|       Africa|\n",
            "| LIE|Liechtenstein|            Vaduz|       Europe|\n",
            "| LTU|    Lithuania|          Vilnius|       Europe|\n",
            "| LUX|   Luxembourg|       Luxembourg|       Europe|\n",
            "| MAC|        Macau|Concelho de Macau|         Asia|\n",
            "| MDG|   Madagascar|     Antananarivo|       Africa|\n",
            "+----+-------------+-----------------+-------------+\n",
            "only showing top 20 rows\n",
            "\n"
          ]
        }
      ]
    },
    {
      "cell_type": "code",
      "source": [
        "# show the population table\n",
        "df_population.show()"
      ],
      "metadata": {
        "colab": {
          "base_uri": "https://localhost:8080/"
        },
        "id": "E4CivOojrIZr",
        "outputId": "7ab392f3-549b-4697-e870-fdc709dd0633"
      },
      "execution_count": 15,
      "outputs": [
        {
          "output_type": "stream",
          "name": "stdout",
          "text": [
            "+----+----+---------------+---------------+---------------+---------------+---------------+---------------+---------------+---------------+----------+-----------------+-----------+---------------------------+\n",
            "|Rank|CCA3|2022_Population|2020_Population|2015_Population|2010_Population|2000_Population|1990_Population|1980_Population|1970_Population|Area_(km²)|Density_(per km²)|Growth_Rate|World_Population_Percentage|\n",
            "+----+----+---------------+---------------+---------------+---------------+---------------+---------------+---------------+---------------+----------+-----------------+-----------+---------------------------+\n",
            "|  36| AFG|       41128771|       38972230|       33753499|       28189672|       19542982|       10694796|       12486631|       10752971|    652230|          63.0587|     1.0257|                       0.52|\n",
            "| 138| ALB|        2842321|        2866849|        2882481|        2913399|        3182021|        3295066|        2941651|        2324731|     28748|          98.8702|     0.9957|                       0.04|\n",
            "|  34| DZA|       44903225|       43451666|       39543154|       35856344|       30774621|       25518074|       18739378|       13795915|   2381741|          18.8531|     1.0164|                       0.56|\n",
            "| 213| ASM|          44273|          46189|          51368|          54849|          58230|          47818|          32886|          27075|       199|         222.4774|     0.9831|                        0.0|\n",
            "| 203| AND|          79824|          77700|          71746|          71519|          66097|          53569|          35611|          19860|       468|         170.5641|       1.01|                        0.0|\n",
            "|  42| AGO|       35588987|       33428485|       28127721|       23364185|       16394062|       11828638|        8330047|        6029700|   1246700|          28.5466|     1.0315|                       0.45|\n",
            "| 224| AIA|          15857|          15585|          14525|          13172|          11047|           8316|           6560|           6283|        91|         174.2527|     1.0066|                        0.0|\n",
            "| 201| ATG|          93763|          92664|          89941|          85695|          75055|          63328|          64888|          64516|       442|         212.1335|     1.0058|                        0.0|\n",
            "|  33| ARG|       45510318|       45036032|       43257065|       41100123|       37070774|       32637657|       28024803|       23842803|   2780400|          16.3683|     1.0052|                       0.57|\n",
            "| 140| ARM|        2780469|        2805608|        2878595|        2946293|        3168523|        3556539|        3135123|        2534377|     29743|          93.4831|     0.9962|                       0.03|\n",
            "| 198| ABW|         106445|         106585|         104257|         100341|          89101|          65712|          62267|          59106|       180|         591.3611|     0.9991|                        0.0|\n",
            "|  55| AUS|       26177413|       25670051|       23820236|       22019168|       19017963|       17048003|       14706322|       12595034|   7692024|           3.4032|     1.0099|                       0.33|\n",
            "|  99| AUT|        8939617|        8907777|        8642421|        8362829|        8010428|        7678729|        7547561|        7465301|     83871|         106.5877|      1.002|                       0.11|\n",
            "|  91| AZE|       10358074|       10284951|        9863480|        9237202|        8190337|        7427836|        6383060|        5425317|     86600|         119.6082|     1.0044|                       0.13|\n",
            "| 176| BHS|         409984|         406471|         392697|         373272|         325014|         270679|         223752|         179129|     13943|          29.4043|     1.0051|                       0.01|\n",
            "| 154| BHR|        1472233|        1477469|        1362142|        1213645|         711442|         517418|         362595|         222555|       765|        1924.4876|     1.0061|                       0.02|\n",
            "|   8| BGD|      171186372|      167420951|      157830000|      148391139|      129193327|      107147651|       83929765|       67541860|    147570|         1160.035|     1.0108|                       2.15|\n",
            "| 186| BRB|         281635|         280693|         278083|         274711|         264657|         258868|         253575|         241397|       430|         654.9651|     1.0015|                        0.0|\n",
            "|  96| BLR|        9534954|        9633740|        9700609|        9731427|       10256483|       10428525|        9817257|        9170786|    207600|          45.9295|     0.9955|                       0.12|\n",
            "|  81| BEL|       11655930|       11561717|       11248303|       10877947|       10264343|        9959560|        9828986|        9629376|     30528|         381.8111|     1.0038|                       0.15|\n",
            "+----+----+---------------+---------------+---------------+---------------+---------------+---------------+---------------+---------------+----------+-----------------+-----------+---------------------------+\n",
            "only showing top 20 rows\n",
            "\n"
          ]
        }
      ]
    },
    {
      "cell_type": "code",
      "source": [
        "# defining the DataFrames to spark.sql\n",
        "df_country.createOrReplaceTempView(\"country\")\n",
        "df_population.createOrReplaceTempView(\"population\")"
      ],
      "metadata": {
        "id": "q3UJHGjsrLbU"
      },
      "execution_count": 16,
      "outputs": []
    },
    {
      "cell_type": "code",
      "source": [
        "# spark.sql allows run any sql queries\n",
        "spark.sql(\"select * from country\").show()"
      ],
      "metadata": {
        "colab": {
          "base_uri": "https://localhost:8080/"
        },
        "id": "DEheCt4os1z3",
        "outputId": "0c9ac390-1e99-4130-f059-244d49262b06"
      },
      "execution_count": 17,
      "outputs": [
        {
          "output_type": "stream",
          "name": "stdout",
          "text": [
            "+----+-------------+-----------------+-------------+\n",
            "|CCA3|      Country|          Capital|    Continent|\n",
            "+----+-------------+-----------------+-------------+\n",
            "| JAM|      Jamaica|         Kingston|North America|\n",
            "| JPN|        Japan|            Tokyo|         Asia|\n",
            "| JEY|       Jersey|     Saint Helier|       Europe|\n",
            "| JOR|       Jordan|            Amman|         Asia|\n",
            "| KAZ|   Kazakhstan|        Nursultan|         Asia|\n",
            "| KEN|        Kenya|          Nairobi|       Africa|\n",
            "| KIR|     Kiribati|           Tarawa|      Oceania|\n",
            "| KWT|       Kuwait|      Kuwait City|         Asia|\n",
            "| KGZ|   Kyrgyzstan|          Bishkek|         Asia|\n",
            "| LAO|         Laos|        Vientiane|         Asia|\n",
            "| LVA|       Latvia|             Riga|       Europe|\n",
            "| LBN|      Lebanon|           Beirut|         Asia|\n",
            "| LSO|      Lesotho|           Maseru|       Africa|\n",
            "| LBR|      Liberia|         Monrovia|       Africa|\n",
            "| LBY|        Libya|          Tripoli|       Africa|\n",
            "| LIE|Liechtenstein|            Vaduz|       Europe|\n",
            "| LTU|    Lithuania|          Vilnius|       Europe|\n",
            "| LUX|   Luxembourg|       Luxembourg|       Europe|\n",
            "| MAC|        Macau|Concelho de Macau|         Asia|\n",
            "| MDG|   Madagascar|     Antananarivo|       Africa|\n",
            "+----+-------------+-----------------+-------------+\n",
            "only showing top 20 rows\n",
            "\n"
          ]
        }
      ]
    },
    {
      "cell_type": "code",
      "source": [
        "# the join with country and population tables using the CCA3 column\n",
        "spark.sql('select c.Country, c.Capital, c.Continent, p.* from country c, population p where c.CCA3 = p.CCA3').show()"
      ],
      "metadata": {
        "colab": {
          "base_uri": "https://localhost:8080/"
        },
        "id": "-a7akAEKtLXG",
        "outputId": "4e1f1738-07a3-494c-edb8-2a6c7cbcdd78"
      },
      "execution_count": 19,
      "outputs": [
        {
          "output_type": "stream",
          "name": "stdout",
          "text": [
            "+-------------------+----------------+-------------+----+----+---------------+---------------+---------------+---------------+---------------+---------------+---------------+---------------+----------+-----------------+-----------+---------------------------+\n",
            "|            Country|         Capital|    Continent|Rank|CCA3|2022_Population|2020_Population|2015_Population|2010_Population|2000_Population|1990_Population|1980_Population|1970_Population|Area_(km²)|Density_(per km²)|Growth_Rate|World_Population_Percentage|\n",
            "+-------------------+----------------+-------------+----+----+---------------+---------------+---------------+---------------+---------------+---------------+---------------+---------------+----------+-----------------+-----------+---------------------------+\n",
            "|        Afghanistan|           Kabul|         Asia|  36| AFG|       41128771|       38972230|       33753499|       28189672|       19542982|       10694796|       12486631|       10752971|    652230|          63.0587|     1.0257|                       0.52|\n",
            "|            Albania|          Tirana|       Europe| 138| ALB|        2842321|        2866849|        2882481|        2913399|        3182021|        3295066|        2941651|        2324731|     28748|          98.8702|     0.9957|                       0.04|\n",
            "|            Algeria|         Algiers|       Africa|  34| DZA|       44903225|       43451666|       39543154|       35856344|       30774621|       25518074|       18739378|       13795915|   2381741|          18.8531|     1.0164|                       0.56|\n",
            "|     American Samoa|       Pago Pago|      Oceania| 213| ASM|          44273|          46189|          51368|          54849|          58230|          47818|          32886|          27075|       199|         222.4774|     0.9831|                        0.0|\n",
            "|            Andorra|Andorra la Vella|       Europe| 203| AND|          79824|          77700|          71746|          71519|          66097|          53569|          35611|          19860|       468|         170.5641|       1.01|                        0.0|\n",
            "|             Angola|          Luanda|       Africa|  42| AGO|       35588987|       33428485|       28127721|       23364185|       16394062|       11828638|        8330047|        6029700|   1246700|          28.5466|     1.0315|                       0.45|\n",
            "|           Anguilla|      The Valley|North America| 224| AIA|          15857|          15585|          14525|          13172|          11047|           8316|           6560|           6283|        91|         174.2527|     1.0066|                        0.0|\n",
            "|Antigua and Barbuda|    Saint John’s|North America| 201| ATG|          93763|          92664|          89941|          85695|          75055|          63328|          64888|          64516|       442|         212.1335|     1.0058|                        0.0|\n",
            "|          Argentina|    Buenos Aires|South America|  33| ARG|       45510318|       45036032|       43257065|       41100123|       37070774|       32637657|       28024803|       23842803|   2780400|          16.3683|     1.0052|                       0.57|\n",
            "|            Armenia|         Yerevan|         Asia| 140| ARM|        2780469|        2805608|        2878595|        2946293|        3168523|        3556539|        3135123|        2534377|     29743|          93.4831|     0.9962|                       0.03|\n",
            "|              Aruba|      Oranjestad|North America| 198| ABW|         106445|         106585|         104257|         100341|          89101|          65712|          62267|          59106|       180|         591.3611|     0.9991|                        0.0|\n",
            "|          Australia|        Canberra|      Oceania|  55| AUS|       26177413|       25670051|       23820236|       22019168|       19017963|       17048003|       14706322|       12595034|   7692024|           3.4032|     1.0099|                       0.33|\n",
            "|            Austria|          Vienna|       Europe|  99| AUT|        8939617|        8907777|        8642421|        8362829|        8010428|        7678729|        7547561|        7465301|     83871|         106.5877|      1.002|                       0.11|\n",
            "|         Azerbaijan|            Baku|         Asia|  91| AZE|       10358074|       10284951|        9863480|        9237202|        8190337|        7427836|        6383060|        5425317|     86600|         119.6082|     1.0044|                       0.13|\n",
            "|            Bahamas|          Nassau|North America| 176| BHS|         409984|         406471|         392697|         373272|         325014|         270679|         223752|         179129|     13943|          29.4043|     1.0051|                       0.01|\n",
            "|            Bahrain|          Manama|         Asia| 154| BHR|        1472233|        1477469|        1362142|        1213645|         711442|         517418|         362595|         222555|       765|        1924.4876|     1.0061|                       0.02|\n",
            "|         Bangladesh|           Dhaka|         Asia|   8| BGD|      171186372|      167420951|      157830000|      148391139|      129193327|      107147651|       83929765|       67541860|    147570|         1160.035|     1.0108|                       2.15|\n",
            "|           Barbados|      Bridgetown|North America| 186| BRB|         281635|         280693|         278083|         274711|         264657|         258868|         253575|         241397|       430|         654.9651|     1.0015|                        0.0|\n",
            "|            Belarus|           Minsk|       Europe|  96| BLR|        9534954|        9633740|        9700609|        9731427|       10256483|       10428525|        9817257|        9170786|    207600|          45.9295|     0.9955|                       0.12|\n",
            "|            Belgium|        Brussels|       Europe|  81| BEL|       11655930|       11561717|       11248303|       10877947|       10264343|        9959560|        9828986|        9629376|     30528|         381.8111|     1.0038|                       0.15|\n",
            "+-------------------+----------------+-------------+----+----+---------------+---------------+---------------+---------------+---------------+---------------+---------------+---------------+----------+-----------------+-----------+---------------------------+\n",
            "only showing top 20 rows\n",
            "\n"
          ]
        }
      ]
    },
    {
      "cell_type": "code",
      "source": [],
      "metadata": {
        "id": "4Va-BxCMs5ML"
      },
      "execution_count": null,
      "outputs": []
    },
    {
      "cell_type": "code",
      "source": [
        "# transform the sql querie result for a DataFrame\n",
        "df_join = spark.sql('select c.Country, c.Capital, c.Continent, p.* from country c, population p where c.CCA3 = p.CCA3')"
      ],
      "metadata": {
        "id": "9qKPXIryt7Zm"
      },
      "execution_count": 21,
      "outputs": []
    },
    {
      "cell_type": "code",
      "source": [
        "# count line\n",
        "df_join.count()"
      ],
      "metadata": {
        "colab": {
          "base_uri": "https://localhost:8080/"
        },
        "id": "qQau_5o2uePJ",
        "outputId": "5b57526c-9d2c-4f09-97b7-40f0574ffde7"
      },
      "execution_count": 22,
      "outputs": [
        {
          "output_type": "execute_result",
          "data": {
            "text/plain": [
              "234"
            ]
          },
          "metadata": {},
          "execution_count": 22
        }
      ]
    },
    {
      "cell_type": "code",
      "source": [
        "df_join = df_join.withColumnRenamed('Area_(km²)', 'area')"
      ],
      "metadata": {
        "id": "WsAeOtYVQ0Yt"
      },
      "execution_count": 25,
      "outputs": []
    },
    {
      "cell_type": "code",
      "source": [
        "df_join = df_join.withColumnRenamed('Density_(per km²)', 'density_per_km')"
      ],
      "metadata": {
        "id": "v0dX0-5nREuK"
      },
      "execution_count": 27,
      "outputs": []
    },
    {
      "cell_type": "code",
      "source": [
        "# save in csv \n",
        "df_join.write.format('parquet').mode('overwrite').save('/processed')"
      ],
      "metadata": {
        "id": "jQpWdYv2uluW"
      },
      "execution_count": 28,
      "outputs": []
    },
    {
      "cell_type": "code",
      "source": [],
      "metadata": {
        "id": "-YZlDs1Rvhto"
      },
      "execution_count": null,
      "outputs": []
    }
  ]
}